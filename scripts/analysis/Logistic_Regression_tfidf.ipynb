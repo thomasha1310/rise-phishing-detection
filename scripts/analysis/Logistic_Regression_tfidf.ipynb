{
 "cells": [
  {
   "cell_type": "code",
   "execution_count": 1,
   "id": "44c197f7",
   "metadata": {},
   "outputs": [],
   "source": [
    "#imports\n",
    "import joblib\n",
    "import pandas as pd\n",
    "import numpy as np\n",
    "from sklearn.pipeline import Pipeline\n",
    "from sklearn.model_selection import train_test_split, KFold, GridSearchCV\n",
    "from sklearn.feature_extraction.text import TfidfVectorizer\n",
    "from sklearn.linear_model import LogisticRegression\n",
    "from sklearn.metrics import classification_report, accuracy_score, precision_score, recall_score, f1_score"
   ]
  },
  {
   "cell_type": "code",
   "execution_count": 2,
   "id": "ef120b44",
   "metadata": {},
   "outputs": [],
   "source": [
    "df = pd.read_csv('../../data/analysis/emails_augmented.csv') \n",
    "assert 'body_no_stopwords' in df.columns and 'label' in df.columns, \"Missing required columns.\"\n",
    "X = df['body_no_stopwords']\n",
    "y = df['label']"
   ]
  },
  {
   "cell_type": "code",
   "execution_count": 3,
   "id": "a72a37fd",
   "metadata": {},
   "outputs": [
    {
     "name": "stdout",
     "output_type": "stream",
     "text": [
      "0\n",
      "81972    abn amro bank amsterdam nl eg netherlands abna...\n",
      "14733    special treatment beloved one largest selectio...\n",
      "53457    mlcro soft software half prlce favorite progra...\n",
      "40055    blue highlighted pipes critical ones east orig...\n",
      "64682    fyi kim original message lebeau randy sent thu...\n",
      "Name: body_no_stopwords, dtype: object\n"
     ]
    }
   ],
   "source": [
    "X_train, X_test, y_train, y_test = train_test_split(X, y, test_size=0.2, random_state=42)\n",
    "\n",
    "print(X_train.isnull().sum())\n",
    "print(X_train.head())"
   ]
  },
  {
   "cell_type": "code",
   "execution_count": 4,
   "id": "51c6430f",
   "metadata": {},
   "outputs": [],
   "source": [
    "pipe = Pipeline([\n",
    "    ('vectorizer', TfidfVectorizer(max_features=5000, ngram_range=(1, 2))),\n",
    "    ('classifier', LogisticRegression()) \n",
    "])\n",
    "\n",
    "param_grid = [\n",
    "    {\n",
    "        'classifier__penalty': ['l1', 'l2'],\n",
    "        'classifier__C': [0.01, 0.1, 1, 10],\n",
    "        'classifier__solver': ['liblinear'],\n",
    "        'classifier__max_iter': [500]\n",
    "    },\n",
    "    {\n",
    "        'classifier__penalty': ['l2'],\n",
    "        'classifier__C': [0.01, 0.1, 1, 10],\n",
    "        'classifier__solver': ['saga'],\n",
    "        'classifier__max_iter': [1000]\n",
    "    }\n",
    "]\n",
    "\n",
    "kfold = KFold(n_splits=10, shuffle=True, random_state=42)\n",
    "grid_search = GridSearchCV(\n",
    "    estimator=pipe,  \n",
    "    param_grid=param_grid,\n",
    "    cv=kfold,\n",
    "    scoring='accuracy',\n",
    "    n_jobs=16\n",
    ")\n",
    "grid_search.fit(X_train, y_train) \n",
    "\n",
    "best_pipeline = grid_search.best_estimator_"
   ]
  },
  {
   "cell_type": "code",
   "execution_count": 5,
   "id": "8ec81841",
   "metadata": {},
   "outputs": [
    {
     "name": "stdout",
     "output_type": "stream",
     "text": [
      "              precision    recall  f1-score   support\n",
      "\n",
      "           0       0.98      0.98      0.98      7843\n",
      "           1       0.98      0.98      0.98      8568\n",
      "\n",
      "    accuracy                           0.98     16411\n",
      "   macro avg       0.98      0.98      0.98     16411\n",
      "weighted avg       0.98      0.98      0.98     16411\n",
      "\n"
     ]
    }
   ],
   "source": [
    "y_pred = best_pipeline.predict(X_test)\n",
    "print(classification_report(y_test, y_pred))"
   ]
  },
  {
   "cell_type": "code",
   "execution_count": 6,
   "id": "a4f0855c",
   "metadata": {},
   "outputs": [
    {
     "data": {
      "text/plain": [
       "['../../output/models/LogisticRegression.joblib']"
      ]
     },
     "execution_count": 6,
     "metadata": {},
     "output_type": "execute_result"
    }
   ],
   "source": [
    "joblib.dump(best_pipeline, '../../output/models/LogisticRegression_tfidf.joblib')"
   ]
  }
 ],
 "metadata": {
  "kernelspec": {
   "display_name": "Python 3",
   "language": "python",
   "name": "python3"
  },
  "language_info": {
   "codemirror_mode": {
    "name": "ipython",
    "version": 3
   },
   "file_extension": ".py",
   "mimetype": "text/x-python",
   "name": "python",
   "nbconvert_exporter": "python",
   "pygments_lexer": "ipython3",
   "version": "3.13.5"
  }
 },
 "nbformat": 4,
 "nbformat_minor": 5
}
