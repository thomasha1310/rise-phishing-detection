{
 "cells": [
  {
   "cell_type": "code",
   "execution_count": null,
   "id": "a89bdaa9",
   "metadata": {},
   "outputs": [],
   "source": [
    "import shap\n",
    "import matplotlib.pyplot as plt\n",
    "from transformers import pipeline, BertTokenizer, BertForSequenceClassification"
   ]
  },
  {
   "cell_type": "code",
   "execution_count": null,
   "id": "41ebd6f3",
   "metadata": {},
   "outputs": [],
   "source": [
    "model_path = \"../output/models/phishing-bert-model\"\n",
    "\n",
    "model = BertForSequenceClassification.from_pretrained(model_path)\n",
    "tokenizer = BertTokenizer.from_pretrained(model_path)\n",
    "\n",
    "# 2) wrap it in a transformers pipeline that returns all class scores\n",
    "#    (we use top_k=None so we get both “not_phish” and “phish”)\n",
    "pipe = pipeline(\n",
    "    \"text-classification\",\n",
    "    model=model,\n",
    "    tokenizer=tokenizer,\n",
    "    top_k=None,\n",
    "    return_all_scores=True\n",
    ")\n",
    "\n",
    "# 3) your example text\n",
    "text = (\n",
    "    \"quick quiz hottest thing costa rica answer real estate market got check view http \"\n",
    "    \"decline future promotions offer see following http mail costa reserva leroy drive \"\n",
    "    \"corona ca xycs9uc desertdeals proud hand selected offerings however excluded \"\n",
    "    \"please visit http write us adobe one e chicago avenue chicago il\"\n",
    ")\n",
    "\n",
    "# 4) build a SHAP Explainer for the pipeline\n",
    "explainer = shap.Explainer(\n",
    "    pipe,\n",
    ")\n",
    "\n",
    "# 5) compute SHAP values (this may take a moment)\n",
    "shap_values = explainer([text])"
   ]
  },
  {
   "cell_type": "code",
   "execution_count": null,
   "id": "6da87b3b",
   "metadata": {},
   "outputs": [],
   "source": [
    "exp = shap_values[0, :, 1]"
   ]
  },
  {
   "cell_type": "code",
   "execution_count": null,
   "id": "4cf8dd5f",
   "metadata": {},
   "outputs": [],
   "source": [
    "fig = None\n",
    "ax = shap.plots.waterfall(exp, max_display=15, show=False)\n",
    "fig = ax.get_figure()      # pull the Figure off the Axes\n",
    "fig.tight_layout()\n",
    "fig.savefig(\"waterfall_plot.png\", dpi=300, bbox_inches=\"tight\")"
   ]
  }
 ],
 "metadata": {
  "kernelspec": {
   "display_name": "phishfence",
   "language": "python",
   "name": "python3"
  },
  "language_info": {
   "codemirror_mode": {
    "name": "ipython",
    "version": 3
   },
   "file_extension": ".py",
   "mimetype": "text/x-python",
   "name": "python",
   "nbconvert_exporter": "python",
   "pygments_lexer": "ipython3",
   "version": "3.13.5"
  }
 },
 "nbformat": 4,
 "nbformat_minor": 5
}
