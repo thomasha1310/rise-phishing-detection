{
 "cells": [
  {
   "cell_type": "code",
   "execution_count": 1,
   "id": "44c197f7",
   "metadata": {},
   "outputs": [],
   "source": [
    "#imports\n",
    "import joblib\n",
    "import pandas as pd\n",
    "import numpy as np\n",
    "from sklearn.pipeline import Pipeline\n",
    "from sklearn.model_selection import train_test_split, KFold, GridSearchCV\n",
    "from sklearn.feature_extraction.text import TfidfVectorizer\n",
    "from sklearn.linear_model import LogisticRegression\n",
    "from sklearn.metrics import classification_report, accuracy_score, precision_score, recall_score, f1_score"
   ]
  },
  {
   "cell_type": "code",
   "execution_count": 2,
   "id": "506b3a73",
   "metadata": {},
   "outputs": [
    {
     "name": "stdout",
     "output_type": "stream",
     "text": [
      "Embeddings and labels loaded successfully!\n"
     ]
    }
   ],
   "source": [
    "from joblib import load\n",
    "import os\n",
    "\n",
    "input_dir = '../../output/embeddings'\n",
    "\n",
    "X_train_emb = load(os.path.join(input_dir, 'X_train_emb.joblib'))\n",
    "X_test_emb = load(os.path.join(input_dir, 'X_test_emb.joblib'))\n",
    "y_train = load(os.path.join(input_dir, 'y_train.joblib'))\n",
    "y_test = load(os.path.join(input_dir, 'y_test.joblib')) # Don't forget y_test!\n",
    "\n",
    "print(\"Embeddings and labels loaded successfully!\")"
   ]
  },
  {
   "cell_type": "code",
   "execution_count": 3,
   "id": "51c6430f",
   "metadata": {},
   "outputs": [],
   "source": [
    "param_grid = [\n",
    "    {\n",
    "        'penalty': ['l1', 'l2'],\n",
    "        'C': [0.01, 0.1, 1, 10],\n",
    "        'solver': ['liblinear'],\n",
    "        'max_iter': [500]\n",
    "    },\n",
    "    {\n",
    "        'penalty': ['l2'],\n",
    "        'C': [0.01, 0.1, 1, 10],\n",
    "        'solver': ['saga'],\n",
    "        'max_iter': [1000]\n",
    "    }\n",
    "]\n",
    "\n",
    "kfold = KFold(n_splits=10, shuffle=True, random_state=42)\n",
    "\n",
    "grid_search = GridSearchCV(\n",
    "    estimator=LogisticRegression(),\n",
    "    param_grid=param_grid,\n",
    "    cv=kfold,\n",
    "    scoring='accuracy',\n",
    "    n_jobs=16\n",
    ")\n",
    "grid_search.fit(X_train_emb, y_train)\n",
    "\n",
    "best_model = grid_search.best_estimator_"
   ]
  },
  {
   "cell_type": "code",
   "execution_count": 6,
   "id": "8ec81841",
   "metadata": {},
   "outputs": [
    {
     "name": "stdout",
     "output_type": "stream",
     "text": [
      "              precision    recall  f1-score   support\n",
      "\n",
      "           0       0.95      0.95      0.95      7843\n",
      "           1       0.95      0.95      0.95      8568\n",
      "\n",
      "    accuracy                           0.95     16411\n",
      "   macro avg       0.95      0.95      0.95     16411\n",
      "weighted avg       0.95      0.95      0.95     16411\n",
      "\n"
     ]
    }
   ],
   "source": [
    "y_pred = best_model.predict(X_test_emb)\n",
    "print(classification_report(y_test, y_pred))"
   ]
  },
  {
   "cell_type": "code",
   "execution_count": 7,
   "id": "a4f0855c",
   "metadata": {},
   "outputs": [
    {
     "data": {
      "text/plain": [
       "['../../output/models/LogisticRegression_SBERT.joblib']"
      ]
     },
     "execution_count": 7,
     "metadata": {},
     "output_type": "execute_result"
    }
   ],
   "source": [
    "joblib.dump(best_model, '../../output/models/LogisticRegression_SBERT.joblib')"
   ]
  }
 ],
 "metadata": {
  "kernelspec": {
   "display_name": "Python 3",
   "language": "python",
   "name": "python3"
  },
  "language_info": {
   "codemirror_mode": {
    "name": "ipython",
    "version": 3
   },
   "file_extension": ".py",
   "mimetype": "text/x-python",
   "name": "python",
   "nbconvert_exporter": "python",
   "pygments_lexer": "ipython3",
   "version": "3.13.5"
  }
 },
 "nbformat": 4,
 "nbformat_minor": 5
}
