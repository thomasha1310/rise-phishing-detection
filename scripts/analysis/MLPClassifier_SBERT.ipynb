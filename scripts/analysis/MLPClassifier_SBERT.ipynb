{
 "cells": [
  {
   "cell_type": "code",
   "execution_count": 1,
   "id": "44c197f7",
   "metadata": {},
   "outputs": [],
   "source": [
    "#imports\n",
    "import joblib\n",
    "import pandas as pd\n",
    "import numpy as np\n",
    "import re\n",
    "import string\n",
    "from sklearn.pipeline import Pipeline\n",
    "from sklearn.model_selection import train_test_split, KFold, GridSearchCV\n",
    "from sklearn.feature_extraction.text import TfidfVectorizer\n",
    "from sklearn.neural_network import MLPClassifier\n",
    "from sklearn.metrics import classification_report, accuracy_score, precision_score, recall_score, f1_score"
   ]
  },
  {
   "cell_type": "code",
   "execution_count": 2,
   "id": "875e1576",
   "metadata": {},
   "outputs": [
    {
     "name": "stdout",
     "output_type": "stream",
     "text": [
      "Embeddings and labels loaded successfully!\n"
     ]
    }
   ],
   "source": [
    "from joblib import load\n",
    "import os\n",
    "\n",
    "input_dir = '../../output/embeddings'\n",
    "\n",
    "X_train_emb = load(os.path.join(input_dir, 'X_train_emb.joblib'))\n",
    "X_test_emb = load(os.path.join(input_dir, 'X_test_emb.joblib'))\n",
    "y_train = load(os.path.join(input_dir, 'y_train.joblib'))\n",
    "y_test = load(os.path.join(input_dir, 'y_test.joblib')) # Don't forget y_test!\n",
    "\n",
    "print(\"Embeddings and labels loaded successfully!\")"
   ]
  },
  {
   "cell_type": "code",
   "execution_count": 3,
   "id": "51c6430f",
   "metadata": {},
   "outputs": [],
   "source": [
    "param_grid = {\n",
    "    'hidden_layer_sizes': [(50,), (100,)],\n",
    "    'alpha': [0.0001, 0.001],\n",
    "}\n",
    "\n",
    "kfold = KFold(n_splits=10, shuffle=True, random_state=42)\n",
    "grid_search = GridSearchCV(\n",
    "    estimator=MLPClassifier(max_iter=500, random_state=42),  \n",
    "    param_grid=param_grid,\n",
    "    cv=kfold,\n",
    "    scoring='accuracy',\n",
    "    n_jobs=16\n",
    ")\n",
    "grid_search.fit(X_train_emb, y_train)\n",
    "\n",
    "best_model = grid_search.best_estimator_"
   ]
  },
  {
   "cell_type": "code",
   "execution_count": null,
   "id": "8ec81841",
   "metadata": {},
   "outputs": [
    {
     "name": "stdout",
     "output_type": "stream",
     "text": [
      "              precision    recall  f1-score   support\n",
      "\n",
      "           0       0.98      0.98      0.98      7843\n",
      "           1       0.98      0.98      0.98      8568\n",
      "\n",
      "    accuracy                           0.98     16411\n",
      "   macro avg       0.98      0.98      0.98     16411\n",
      "weighted avg       0.98      0.98      0.98     16411\n",
      "\n"
     ]
    }
   ],
   "source": [
    "y_pred = best_model.predict(X_test_emb)\n",
    "print(classification_report(y_test, y_pred))"
   ]
  },
  {
   "cell_type": "code",
   "execution_count": 5,
   "id": "a4f0855c",
   "metadata": {},
   "outputs": [
    {
     "data": {
      "text/plain": [
       "['../../output/models/MLPClassifier_SBERT.joblib']"
      ]
     },
     "execution_count": 5,
     "metadata": {},
     "output_type": "execute_result"
    }
   ],
   "source": [
    "joblib.dump(best_model, '../../output/models/MLPClassifier_SBERT.joblib')"
   ]
  }
 ],
 "metadata": {
  "kernelspec": {
   "display_name": "Python 3",
   "language": "python",
   "name": "python3"
  },
  "language_info": {
   "codemirror_mode": {
    "name": "ipython",
    "version": 3
   },
   "file_extension": ".py",
   "mimetype": "text/x-python",
   "name": "python",
   "nbconvert_exporter": "python",
   "pygments_lexer": "ipython3",
   "version": "3.13.5"
  }
 },
 "nbformat": 4,
 "nbformat_minor": 5
}
