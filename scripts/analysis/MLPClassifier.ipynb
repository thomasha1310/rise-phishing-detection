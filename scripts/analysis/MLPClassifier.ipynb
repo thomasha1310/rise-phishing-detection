{
 "cells": [
  {
   "cell_type": "code",
   "execution_count": 1,
   "id": "44c197f7",
   "metadata": {},
   "outputs": [],
   "source": [
    "#imports\n",
    "import joblib\n",
    "import pandas as pd\n",
    "import numpy as np\n",
    "import re\n",
    "import string\n",
    "from sklearn.pipeline import Pipeline\n",
    "from sklearn.model_selection import train_test_split, KFold, GridSearchCV\n",
    "from sklearn.feature_extraction.text import TfidfVectorizer\n",
    "from sklearn.neural_network import MLPClassifier\n",
    "from sklearn.metrics import classification_report, accuracy_score, precision_score, recall_score, f1_score"
   ]
  },
  {
   "cell_type": "code",
   "execution_count": 2,
   "id": "875e1576",
   "metadata": {},
   "outputs": [],
   "source": [
    "def clean_email(text: str) -> str:\n",
    "    text = re.sub(r'<[^>]+>', '', text) # remove HTML tags\n",
    "    text = re.sub(r'http\\S+', '', text) # remove URLs\n",
    "    # TODO: add a count of URLs to email data\n",
    "    text = re.sub(r'\\d+', '', text) # remove numerical text\n",
    "    text = text.translate(str.maketrans('', '', string.punctuation)) # remove punctuation\n",
    "    text = text.lower().strip() # lowercase\n",
    "    return text\n",
    "\n",
    "def preprocess(df: pd.DataFrame) -> pd.DataFrame:\n",
    "    \"\"\"\n",
    "    \"\"\"\n",
    "    df['clean_email'] = df['body'].astype(str).apply(clean_email)\n",
    "    return df"
   ]
  },
  {
   "cell_type": "code",
   "execution_count": null,
   "id": "ef120b44",
   "metadata": {},
   "outputs": [],
   "source": [
    "df = pd.read_csv('../../data/analysis/emails_augmented.csv') \n",
    "assert 'body_no_stopwords' in df.columns and 'label' in df.columns, \"Missing required columns.\"\n",
    "X = df['body_no_stopwords']\n",
    "y = df['label']"
   ]
  },
  {
   "cell_type": "code",
   "execution_count": null,
   "id": "a72a37fd",
   "metadata": {},
   "outputs": [],
   "source": [
    "X_train, X_test, y_train, y_test = train_test_split(X, y, test_size=0.2, random_state=42)"
   ]
  },
  {
   "cell_type": "code",
   "execution_count": 6,
   "id": "51c6430f",
   "metadata": {},
   "outputs": [
    {
     "name": "stderr",
     "output_type": "stream",
     "text": [
      "Exception ignored in: <function ResourceTracker.__del__ at 0x14e204917920>\n",
      "Traceback (most recent call last):\n",
      "  File \"/usr4/spclpgm/andrewhl/miniconda3/envs/project/lib/python3.12/multiprocessing/resource_tracker.py\", line 77, in __del__\n",
      "  File \"/usr4/spclpgm/andrewhl/miniconda3/envs/project/lib/python3.12/multiprocessing/resource_tracker.py\", line 86, in _stop\n",
      "  File \"/usr4/spclpgm/andrewhl/miniconda3/envs/project/lib/python3.12/multiprocessing/resource_tracker.py\", line 111, in _stop_locked\n",
      "ChildProcessError: [Errno 10] No child processes\n",
      "Exception ignored in: <function ResourceTracker.__del__ at 0x14a111c97920>\n",
      "Traceback (most recent call last):\n",
      "  File \"/usr4/spclpgm/andrewhl/miniconda3/envs/project/lib/python3.12/multiprocessing/resource_tracker.py\", line 77, in __del__\n",
      "  File \"/usr4/spclpgm/andrewhl/miniconda3/envs/project/lib/python3.12/multiprocessing/resource_tracker.py\", line 86, in _stop\n",
      "  File \"/usr4/spclpgm/andrewhl/miniconda3/envs/project/lib/python3.12/multiprocessing/resource_tracker.py\", line 111, in _stop_locked\n",
      "ChildProcessError: [Errno 10] No child processes\n",
      "Exception ignored in: <function ResourceTracker.__del__ at 0x146bfc397920>\n",
      "Traceback (most recent call last):\n",
      "  File \"/usr4/spclpgm/andrewhl/miniconda3/envs/project/lib/python3.12/multiprocessing/resource_tracker.py\", line 77, in __del__\n",
      "  File \"/usr4/spclpgm/andrewhl/miniconda3/envs/project/lib/python3.12/multiprocessing/resource_tracker.py\", line 86, in _stop\n",
      "  File \"/usr4/spclpgm/andrewhl/miniconda3/envs/project/lib/python3.12/multiprocessing/resource_tracker.py\", line 111, in _stop_locked\n",
      "ChildProcessError: [Errno 10] No child processes\n",
      "Exception ignored in: <function ResourceTracker.__del__ at 0x14b8f53c7920>\n",
      "Traceback (most recent call last):\n",
      "  File \"/usr4/spclpgm/andrewhl/miniconda3/envs/project/lib/python3.12/multiprocessing/resource_tracker.py\", line 77, in __del__\n",
      "  File \"/usr4/spclpgm/andrewhl/miniconda3/envs/project/lib/python3.12/multiprocessing/resource_tracker.py\", line 86, in _stop\n",
      "  File \"/usr4/spclpgm/andrewhl/miniconda3/envs/project/lib/python3.12/multiprocessing/resource_tracker.py\", line 111, in _stop_locked\n",
      "ChildProcessError: [Errno 10] No child processes\n",
      "Exception ignored in: <function ResourceTracker.__del__ at 0x14653a143920>\n",
      "Traceback (most recent call last):\n",
      "  File \"/usr4/spclpgm/andrewhl/miniconda3/envs/project/lib/python3.12/multiprocessing/resource_tracker.py\", line 77, in __del__\n",
      "  File \"/usr4/spclpgm/andrewhl/miniconda3/envs/project/lib/python3.12/multiprocessing/resource_tracker.py\", line 86, in _stop\n",
      "  File \"/usr4/spclpgm/andrewhl/miniconda3/envs/project/lib/python3.12/multiprocessing/resource_tracker.py\", line 111, in _stop_locked\n",
      "ChildProcessError: [Errno 10] No child processes\n",
      "Exception ignored in: <function ResourceTracker.__del__ at 0x1471273ef920>\n",
      "Traceback (most recent call last):\n",
      "  File \"/usr4/spclpgm/andrewhl/miniconda3/envs/project/lib/python3.12/multiprocessing/resource_tracker.py\", line 77, in __del__\n",
      "  File \"/usr4/spclpgm/andrewhl/miniconda3/envs/project/lib/python3.12/multiprocessing/resource_tracker.py\", line 86, in _stop\n",
      "  File \"/usr4/spclpgm/andrewhl/miniconda3/envs/project/lib/python3.12/multiprocessing/resource_tracker.py\", line 111, in _stop_locked\n",
      "ChildProcessError: [Errno 10] No child processes\n",
      "Exception ignored in: <function ResourceTracker.__del__ at 0x14f1a77bf920>\n",
      "Traceback (most recent call last):\n",
      "  File \"/usr4/spclpgm/andrewhl/miniconda3/envs/project/lib/python3.12/multiprocessing/resource_tracker.py\", line 77, in __del__\n",
      "  File \"/usr4/spclpgm/andrewhl/miniconda3/envs/project/lib/python3.12/multiprocessing/resource_tracker.py\", line 86, in _stop\n",
      "  File \"/usr4/spclpgm/andrewhl/miniconda3/envs/project/lib/python3.12/multiprocessing/resource_tracker.py\", line 111, in _stop_locked\n",
      "ChildProcessError: [Errno 10] No child processes\n",
      "Exception ignored in: <function ResourceTracker.__del__ at 0x1485bf447920>\n",
      "Traceback (most recent call last):\n",
      "  File \"/usr4/spclpgm/andrewhl/miniconda3/envs/project/lib/python3.12/multiprocessing/resource_tracker.py\", line 77, in __del__\n",
      "  File \"/usr4/spclpgm/andrewhl/miniconda3/envs/project/lib/python3.12/multiprocessing/resource_tracker.py\", line 86, in _stop\n",
      "  File \"/usr4/spclpgm/andrewhl/miniconda3/envs/project/lib/python3.12/multiprocessing/resource_tracker.py\", line 111, in _stop_locked\n",
      "ChildProcessError: [Errno 10] No child processes\n",
      "Exception ignored in: <function ResourceTracker.__del__ at 0x151c8dffb920>\n",
      "Traceback (most recent call last):\n",
      "  File \"/usr4/spclpgm/andrewhl/miniconda3/envs/project/lib/python3.12/multiprocessing/resource_tracker.py\", line 77, in __del__\n",
      "  File \"/usr4/spclpgm/andrewhl/miniconda3/envs/project/lib/python3.12/multiprocessing/resource_tracker.py\", line 86, in _stop\n",
      "  File \"/usr4/spclpgm/andrewhl/miniconda3/envs/project/lib/python3.12/multiprocessing/resource_tracker.py\", line 111, in _stop_locked\n",
      "ChildProcessError: [Errno 10] No child processes\n",
      "Exception ignored in: <function ResourceTracker.__del__ at 0x1476662a3920>\n",
      "Traceback (most recent call last):\n",
      "  File \"/usr4/spclpgm/andrewhl/miniconda3/envs/project/lib/python3.12/multiprocessing/resource_tracker.py\", line 77, in __del__\n",
      "  File \"/usr4/spclpgm/andrewhl/miniconda3/envs/project/lib/python3.12/multiprocessing/resource_tracker.py\", line 86, in _stop\n",
      "  File \"/usr4/spclpgm/andrewhl/miniconda3/envs/project/lib/python3.12/multiprocessing/resource_tracker.py\", line 111, in _stop_locked\n",
      "ChildProcessError: [Errno 10] No child processes\n",
      "Exception ignored in: <function ResourceTracker.__del__ at 0x147563eab920>\n",
      "Traceback (most recent call last):\n",
      "  File \"/usr4/spclpgm/andrewhl/miniconda3/envs/project/lib/python3.12/multiprocessing/resource_tracker.py\", line 77, in __del__\n",
      "  File \"/usr4/spclpgm/andrewhl/miniconda3/envs/project/lib/python3.12/multiprocessing/resource_tracker.py\", line 86, in _stop\n",
      "  File \"/usr4/spclpgm/andrewhl/miniconda3/envs/project/lib/python3.12/multiprocessing/resource_tracker.py\", line 111, in _stop_locked\n",
      "ChildProcessError: [Errno 10] No child processes\n",
      "Exception ignored in: <function ResourceTracker.__del__ at 0x1506efb13920>\n",
      "Traceback (most recent call last):\n",
      "  File \"/usr4/spclpgm/andrewhl/miniconda3/envs/project/lib/python3.12/multiprocessing/resource_tracker.py\", line 77, in __del__\n",
      "  File \"/usr4/spclpgm/andrewhl/miniconda3/envs/project/lib/python3.12/multiprocessing/resource_tracker.py\", line 86, in _stop\n",
      "  File \"/usr4/spclpgm/andrewhl/miniconda3/envs/project/lib/python3.12/multiprocessing/resource_tracker.py\", line 111, in _stop_locked\n",
      "ChildProcessError: [Errno 10] No child processes\n",
      "Exception ignored in: <function ResourceTracker.__del__ at 0x153545ea3920>\n",
      "Traceback (most recent call last):\n",
      "  File \"/usr4/spclpgm/andrewhl/miniconda3/envs/project/lib/python3.12/multiprocessing/resource_tracker.py\", line 77, in __del__\n",
      "  File \"/usr4/spclpgm/andrewhl/miniconda3/envs/project/lib/python3.12/multiprocessing/resource_tracker.py\", line 86, in _stop\n",
      "  File \"/usr4/spclpgm/andrewhl/miniconda3/envs/project/lib/python3.12/multiprocessing/resource_tracker.py\", line 111, in _stop_locked\n",
      "ChildProcessError: [Errno 10] No child processes\n"
     ]
    }
   ],
   "source": [
    "pipe = Pipeline([\n",
    "    ('vectorizer', TfidfVectorizer(max_features=5000, ngram_range=(1, 2))),\n",
    "    ('classifier', MLPClassifier(max_iter=500, random_state=42)) \n",
    "])\n",
    "\n",
    "param_grid = {\n",
    "    'classifier__hidden_layer_sizes': [(50,), (100,)],\n",
    "    'classifier__alpha': [0.0001, 0.001],\n",
    "}\n",
    "\n",
    "kfold = KFold(n_splits=10, shuffle=True, random_state=42)\n",
    "grid_search = GridSearchCV(\n",
    "    estimator=pipe,  \n",
    "    param_grid=param_grid,\n",
    "    cv=kfold,\n",
    "    scoring='accuracy',\n",
    "    n_jobs=16\n",
    ")\n",
    "grid_search.fit(X_train, y_train) \n",
    "\n",
    "best_pipeline = grid_search.best_estimator_"
   ]
  },
  {
   "cell_type": "code",
   "execution_count": 7,
   "id": "8ec81841",
   "metadata": {},
   "outputs": [
    {
     "name": "stdout",
     "output_type": "stream",
     "text": [
      "              precision    recall  f1-score   support\n",
      "\n",
      "           0       0.98      0.98      0.98      7815\n",
      "           1       0.98      0.98      0.98      8613\n",
      "\n",
      "    accuracy                           0.98     16428\n",
      "   macro avg       0.98      0.98      0.98     16428\n",
      "weighted avg       0.98      0.98      0.98     16428\n",
      "\n"
     ]
    }
   ],
   "source": [
    "y_pred = best_pipeline.predict(X_test)\n",
    "print(classification_report(y_test, y_pred))"
   ]
  },
  {
   "cell_type": "code",
   "execution_count": 8,
   "id": "a4f0855c",
   "metadata": {},
   "outputs": [
    {
     "data": {
      "text/plain": [
       "['../../output/models/MLPClassifier.joblib']"
      ]
     },
     "execution_count": 8,
     "metadata": {},
     "output_type": "execute_result"
    },
    {
     "name": "stderr",
     "output_type": "stream",
     "text": [
      "Exception ignored in: <function ResourceTracker.__del__ at 0x1470a7953920>\n",
      "Traceback (most recent call last):\n",
      "  File \"/usr4/spclpgm/andrewhl/miniconda3/envs/project/lib/python3.12/multiprocessing/resource_tracker.py\", line 77, in __del__\n",
      "  File \"/usr4/spclpgm/andrewhl/miniconda3/envs/project/lib/python3.12/multiprocessing/resource_tracker.py\", line 86, in _stop\n",
      "  File \"/usr4/spclpgm/andrewhl/miniconda3/envs/project/lib/python3.12/multiprocessing/resource_tracker.py\", line 111, in _stop_locked\n",
      "ChildProcessError: [Errno 10] No child processes\n",
      "Exception ignored in: <function ResourceTracker.__del__ at 0x15033a48b920>\n",
      "Traceback (most recent call last):\n",
      "  File \"/usr4/spclpgm/andrewhl/miniconda3/envs/project/lib/python3.12/multiprocessing/resource_tracker.py\", line 77, in __del__\n",
      "  File \"/usr4/spclpgm/andrewhl/miniconda3/envs/project/lib/python3.12/multiprocessing/resource_tracker.py\", line 86, in _stop\n",
      "  File \"/usr4/spclpgm/andrewhl/miniconda3/envs/project/lib/python3.12/multiprocessing/resource_tracker.py\", line 111, in _stop_locked\n",
      "ChildProcessError: [Errno 10] No child processes\n",
      "Exception ignored in: <function ResourceTracker.__del__ at 0x147408aab920>\n",
      "Traceback (most recent call last):\n",
      "  File \"/usr4/spclpgm/andrewhl/miniconda3/envs/project/lib/python3.12/multiprocessing/resource_tracker.py\", line 77, in __del__\n",
      "  File \"/usr4/spclpgm/andrewhl/miniconda3/envs/project/lib/python3.12/multiprocessing/resource_tracker.py\", line 86, in _stop\n",
      "  File \"/usr4/spclpgm/andrewhl/miniconda3/envs/project/lib/python3.12/multiprocessing/resource_tracker.py\", line 111, in _stop_locked\n",
      "ChildProcessError: [Errno 10] No child processes\n"
     ]
    }
   ],
   "source": [
    "joblib.dump(best_pipeline, '../../output/models/MLPClassifier.joblib')"
   ]
  }
 ],
 "metadata": {
  "kernelspec": {
   "display_name": "project",
   "language": "python",
   "name": "python3"
  },
  "language_info": {
   "codemirror_mode": {
    "name": "ipython",
    "version": 3
   },
   "file_extension": ".py",
   "mimetype": "text/x-python",
   "name": "python",
   "nbconvert_exporter": "python",
   "pygments_lexer": "ipython3",
   "version": "3.12.11"
  }
 },
 "nbformat": 4,
 "nbformat_minor": 5
}
