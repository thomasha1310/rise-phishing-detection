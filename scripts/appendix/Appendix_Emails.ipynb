{
 "cells": [
  {
   "cell_type": "code",
   "execution_count": null,
   "id": "fe8b897e",
   "metadata": {},
   "outputs": [],
   "source": [
    "import pandas as pd\n",
    "import matplotlib.pyplot as plt"
   ]
  },
  {
   "cell_type": "code",
   "execution_count": null,
   "id": "f39961e9",
   "metadata": {},
   "outputs": [],
   "source": [
    "df = pd.read_csv(\"../../data/analysis/emails.csv\")"
   ]
  },
  {
   "cell_type": "code",
   "execution_count": null,
   "id": "24495ed3",
   "metadata": {},
   "outputs": [],
   "source": [
    "counts = df['label'].value_counts().sort_index()\n",
    "\n",
    "fig = plt.figure(figsize=(4, 3), dpi=300)\n",
    "ax = fig.add_subplot(1, 1, 1)\n",
    "\n",
    "ax.bar(counts.index, counts.values, width=0.8)\n",
    "ax.set_xticks([0.0, 1.0])\n",
    "ax.set_title('Distribution of labels in emails.csv')\n",
    "ax.spines['top'].set_visible(False)\n",
    "ax.spines['right'].set_visible(False)\n",
    "ax.grid(False)\n",
    "\n",
    "fig.savefig(\"../../output/appendix/emails_csv_label_distribution.png\", bbox_inches='tight')\n",
    "\n",
    "plt.show()\n"
   ]
  }
 ],
 "metadata": {
  "kernelspec": {
   "display_name": "phishfence",
   "language": "python",
   "name": "python3"
  },
  "language_info": {
   "codemirror_mode": {
    "name": "ipython",
    "version": 3
   },
   "file_extension": ".py",
   "mimetype": "text/x-python",
   "name": "python",
   "nbconvert_exporter": "python",
   "pygments_lexer": "ipython3",
   "version": "3.13.5"
  }
 },
 "nbformat": 4,
 "nbformat_minor": 5
}
